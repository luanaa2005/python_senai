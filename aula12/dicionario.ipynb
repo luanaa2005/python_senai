{
 "cells": [
  {
   "cell_type": "markdown",
   "metadata": {},
   "source": [
    "# Dicionario \n",
    "\n",
    "É um conjunto de chaves e valores que distinguem um objeto. Estas chaves nós chamamos de KEYS e seus valores de VALUES. É um tipo especial de variável python identificada pelas {}."
   ]
  },
  {
   "cell_type": "code",
   "execution_count": 39,
   "metadata": {},
   "outputs": [
    {
     "name": "stdout",
     "output_type": "stream",
     "text": [
      "{'nome': 'Luana', 'idade': 18, 'cidade': 'São Paulo'}\n"
     ]
    }
   ],
   "source": [
    "pessoa = {\n",
    "    'nome': 'Luana',\n",
    "    'idade': 18,\n",
    "    'cidade': 'São Paulo'\n",
    "}\n",
    "\n",
    "print(pessoa)"
   ]
  },
  {
   "cell_type": "code",
   "execution_count": 40,
   "metadata": {},
   "outputs": [
    {
     "name": "stdout",
     "output_type": "stream",
     "text": [
      "dict_values(['Luana', 18, 'São Paulo'])\n"
     ]
    }
   ],
   "source": [
    "# Metodo KEYS()\n",
    "pessoa.keys()\n",
    "\n",
    "\n",
    "# Metodo VALUES()\n",
    "pessoa.values()\n",
    "\n",
    "\n",
    "print(pessoa.values())"
   ]
  },
  {
   "cell_type": "code",
   "execution_count": 41,
   "metadata": {},
   "outputs": [
    {
     "data": {
      "text/plain": [
       "'Luana'"
      ]
     },
     "execution_count": 41,
     "metadata": {},
     "output_type": "execute_result"
    }
   ],
   "source": [
    "# Olhando valores especificos de um dicionario\n",
    "\n",
    "pessoa['nome']"
   ]
  },
  {
   "cell_type": "code",
   "execution_count": 42,
   "metadata": {},
   "outputs": [
    {
     "name": "stdout",
     "output_type": "stream",
     "text": [
      "{'nome': 'Luana', 'idade': 18, 'cidade': 'São Paulo'}\n",
      "{'nome': 'Luana', 'idade': 18, 'cidade': 'Brasília'}\n"
     ]
    }
   ],
   "source": [
    "# Atribuindo um novo valor a uma chave\n",
    "\n",
    "print(pessoa)\n",
    "pessoa['cidade'] = 'Brasília'\n",
    "print(pessoa)"
   ]
  },
  {
   "cell_type": "code",
   "execution_count": 43,
   "metadata": {},
   "outputs": [
    {
     "name": "stdout",
     "output_type": "stream",
     "text": [
      "{'nome': 'Luana', 'idade': 18, 'cidade': 'Brasília', 'email': 'luana@teste.com'}\n"
     ]
    }
   ],
   "source": [
    "pessoa['email'] = 'luana@teste.com'\n",
    "print(pessoa)"
   ]
  },
  {
   "cell_type": "code",
   "execution_count": 44,
   "metadata": {},
   "outputs": [
    {
     "name": "stdout",
     "output_type": "stream",
     "text": [
      "{'nome': 'Luana', 'email': 'luana@teste.com'}\n"
     ]
    }
   ],
   "source": [
    "del pessoa['idade']\n",
    "\n",
    "pessoa.pop('cidade')\n",
    "\n",
    "print(pessoa)"
   ]
  },
  {
   "cell_type": "code",
   "execution_count": 45,
   "metadata": {},
   "outputs": [
    {
     "name": "stdout",
     "output_type": "stream",
     "text": [
      "[{'nome': 'Daniel', 'cidade': 'brazlandia'}, {'nome': 'Marcos', 'cidade': 'Recanto'}, {'nome': 'Luana', 'cidade': 'Brasilia'}, {'nome': 'Francineide', 'cidade': 'Ceilandia'}]\n",
      "0 {'nome': 'Daniel', 'cidade': 'brazlandia'}\n",
      "1 {'nome': 'Marcos', 'cidade': 'Recanto'}\n",
      "2 {'nome': 'Luana', 'cidade': 'Brasilia'}\n",
      "3 {'nome': 'Francineide', 'cidade': 'Ceilandia'}\n"
     ]
    }
   ],
   "source": [
    "# Dicionários dentro de uma lista\n",
    "\n",
    "alunos = [\n",
    "    {'nome': 'Daniel', 'cidade': 'Aguas Claras'},\n",
    "    {'nome': 'Marcos', 'cidade': 'Recanto'},\n",
    "    {'nome': 'Luana', 'cidade': 'Brasilia'},\n",
    "    {'nome': 'Francineide', 'cidade': 'Ceilandia'}\n",
    "]\n",
    "print(alunos)\n",
    "\n",
    "\n",
    "# Percorrendo lista e printando cada dicionario\n",
    "for indice, aluno in enumerate(alunos):\n",
    "    print(indice, aluno)\n",
    "\n"
   ]
  },
  {
   "cell_type": "code",
   "execution_count": 47,
   "metadata": {},
   "outputs": [
    {
     "name": "stdout",
     "output_type": "stream",
     "text": [
      "{'nome': 'Luana', 'cidade': 'Brasilia'}\n",
      "Samambaia\n"
     ]
    }
   ],
   "source": [
    "print(alunos[2])\n",
    "\n",
    "(alunos[2]['cidade']) = 'Samambaia'\n",
    "print(alunos[2]['cidade'])"
   ]
  },
  {
   "cell_type": "code",
   "execution_count": 49,
   "metadata": {},
   "outputs": [
    {
     "name": "stdout",
     "output_type": "stream",
     "text": [
      "{'Daniel': {'matricula': '1234', 'escolaridade': 'superior'}, 'Luana': {'matricula': '5678', 'escolaridade': 'superior'}, 'Gilmar': {'matricula': '4321', 'escolaridade': 'superior'}, 'Felipe': {'matricula': '9874', 'escolaridade': 'medio'}}\n"
     ]
    }
   ],
   "source": [
    "# Dicionários dentro de um dicionário\n",
    "\n",
    "alunos_dicionário = {\n",
    "    'Daniel': {'matricula':'1234', 'escolaridade':'superior'},\n",
    "    'Luana': {'matricula':'5678', 'escolaridade':'superior'},\n",
    "    'Gilmar': {'matricula':'4321', 'escolaridade':'superior'},\n",
    "    'Felipe': {'matricula':'9874', 'escolaridade':'medio'},\n",
    "}\n",
    "\n",
    "print(alunos_dicionário)"
   ]
  },
  {
   "cell_type": "code",
   "execution_count": 51,
   "metadata": {},
   "outputs": [
    {
     "name": "stdout",
     "output_type": "stream",
     "text": [
      "medio\n"
     ]
    }
   ],
   "source": [
    "print(alunos_dicionário['Felipe']['escolaridade'])"
   ]
  }
 ],
 "metadata": {
  "interpreter": {
   "hash": "023695796a0456db28915f727eb64cb942055160ea749933aa044f2070f70f3a"
  },
  "kernelspec": {
   "display_name": "Python 3.12.5 64-bit (windows store)",
   "language": "python",
   "name": "python3"
  },
  "language_info": {
   "codemirror_mode": {
    "name": "ipython",
    "version": 3
   },
   "file_extension": ".py",
   "mimetype": "text/x-python",
   "name": "python",
   "nbconvert_exporter": "python",
   "pygments_lexer": "ipython3",
   "version": "3.12.5"
  },
  "orig_nbformat": 4
 },
 "nbformat": 4,
 "nbformat_minor": 2
}
