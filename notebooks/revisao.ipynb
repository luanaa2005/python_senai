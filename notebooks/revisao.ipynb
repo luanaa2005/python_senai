{
 "cells": [
  {
   "cell_type": "markdown",
   "metadata": {},
   "source": []
  },
  {
   "cell_type": "markdown",
   "metadata": {},
   "source": [
    "# Relembrando variaveis\n",
    "tipos:\n",
    "- int()\n",
    "- str()\n",
    "- float()\n",
    "- bool()\n",
    "- list()\n",
    "- tuple()\n",
    "- dict()\n",
    "- float()\n",
    "- bool()\n",
    "- list()\n",
    "- tuple()\n",
    "- dict()\n"
   ]
  },
  {
   "cell_type": "code",
   "execution_count": 2,
   "metadata": {},
   "outputs": [],
   "source": [
    "numero = 1\n",
    "nome = 'luciano'\n",
    "numero_decimal = 10.0\n",
    "sera = True\n",
    "frutas = ['pera', 'morango', 'uva']\n",
    "carros = ('gol', 'uno', 'fusca')\n",
    "pessoas = {'nome': 'luciano', 'idade':30, 'altura': 1.98}"
   ]
  },
  {
   "cell_type": "markdown",
   "metadata": {},
   "source": [
    "## condicionais\n",
    "- if\n",
    "- match case"
   ]
  },
  {
   "cell_type": "code",
   "execution_count": 3,
   "metadata": {},
   "outputs": [
    {
     "name": "stdout",
     "output_type": "stream",
     "text": [
      "O nome nao está correto\n"
     ]
    }
   ],
   "source": [
    "if nome == 'Luciano':\n",
    "    print('O nome esta correto')\n",
    "else:\n",
    "    print('O nome nao está correto')"
   ]
  },
  {
   "cell_type": "code",
   "execution_count": 4,
   "metadata": {},
   "outputs": [
    {
     "name": "stdout",
     "output_type": "stream",
     "text": [
      "opcao 1\n"
     ]
    }
   ],
   "source": [
    "match numero:\n",
    "    case 1:\n",
    "        print('opcao 1')\n",
    "    case 2:\n",
    "        print('opcao 2')\n",
    "    case 3:\n",
    "        print('opcao 3')\n",
    "    case 4:\n",
    "        print('opcao 4')"
   ]
  },
  {
   "cell_type": "markdown",
   "metadata": {},
   "source": [
    "Laços de repetição\n",
    "\n",
    "- for\n",
    "- while"
   ]
  },
  {
   "cell_type": "code",
   "execution_count": 5,
   "metadata": {},
   "outputs": [
    {
     "name": "stdout",
     "output_type": "stream",
     "text": [
      "O numero é: {numero}\n",
      "O numero é: {numero}\n",
      "O numero é: {numero}\n",
      "O numero é: {numero}\n",
      "O numero é: {numero}\n"
     ]
    }
   ],
   "source": [
    "for numero in range(5):\n",
    "    print('O numero é: {numero}')"
   ]
  },
  {
   "cell_type": "code",
   "execution_count": 6,
   "metadata": {},
   "outputs": [
    {
     "name": "stdout",
     "output_type": "stream",
     "text": [
      "O contador é:  0\n",
      "O contador é:  1\n",
      "O contador é:  2\n",
      "O contador é:  3\n",
      "O contador é:  4\n",
      "O contador é:  5\n"
     ]
    }
   ],
   "source": [
    "contador = 0\n",
    "while contador <= 5:\n",
    "    print(f'O contador é:  {contador}')\n",
    "    contador += 1"
   ]
  },
  {
   "cell_type": "markdown",
   "metadata": {},
   "source": [
    "## Metodos de string\n",
    "\n",
    "- upper\n",
    "- lower\n",
    "- capitalize\n",
    "- split\n",
    "- strip\n",
    "- slice\n",
    "- replace\n",
    "- join"
   ]
  },
  {
   "cell_type": "code",
   "execution_count": 7,
   "metadata": {},
   "outputs": [
    {
     "name": "stdout",
     "output_type": "stream",
     "text": [
      "luciano lopes ferreira\n",
      "Luciano lopes ferreira\n",
      "LUCIANO LOPES FERREIRA\n",
      "Luciano Lopes Ferreira\n",
      "Luciano Lopes Ferreira\n",
      "['Luciano', 'Lopes', 'Ferreira']\n",
      "luciano-adriana\n",
      "Lopes\n"
     ]
    }
   ],
   "source": [
    "aluno = 'Luciano Lopes Ferreira'\n",
    "alunos = ['luciano', 'adriana']\n",
    "\n",
    "print(aluno.lower())\n",
    "print(aluno.capitalize())\n",
    "print(aluno.upper())\n",
    "print(aluno.strip())\n",
    "print(aluno.replace('lopes', 'nunes'))\n",
    "print(aluno.split())\n",
    "print('-'.join(alunos))\n",
    "print(aluno[8:13])"
   ]
  },
  {
   "cell_type": "markdown",
   "metadata": {},
   "source": [
    "# Metodos de lista\n",
    "\n",
    "- append\n",
    "- extend\n",
    "- insert\n",
    "- remove\n",
    "- pop\n",
    "- index\n",
    "- del\n",
    "- sort\n",
    "- reverse\n"
   ]
  },
  {
   "cell_type": "code",
   "execution_count": 8,
   "metadata": {},
   "outputs": [
    {
     "name": "stdout",
     "output_type": "stream",
     "text": [
      "['notebook', 'smartphone', 'smart tv', 'fliperama']\n",
      "['notebook', 'smartphone', 'smart tv', 'fliperama', 'sofa', 'mesa', 'puff']\n",
      "['notebook', 'smartphone', 'smart tv', 'playstation 5', 'fliperama', 'sofa', 'mesa', 'puff']\n",
      "['notebook', 'smart tv', 'playstation 5', 'fliperama', 'sofa', 'mesa', 'puff']\n",
      "['notebook', 'playstation 5', 'fliperama', 'sofa', 'mesa', 'puff']\n",
      "['notebook', 'playstation 5', 'fliperama', 'sofa', 'mesa', 'puff']\n",
      "['fliperama', 'mesa', 'notebook', 'playstation 5', 'puff', 'sofa']\n",
      "['sofa', 'puff', 'playstation 5', 'notebook', 'mesa', 'fliperama']\n"
     ]
    }
   ],
   "source": [
    "produtos = ['notebook', 'smartphone', 'smart tv']\n",
    "\n",
    "produtos.append('fliperama')\n",
    "print(produtos)\n",
    "produtos.extend(['sofa', 'mesa', 'puff'])\n",
    "print(produtos)\n",
    "produtos.insert(3, 'playstation 5')\n",
    "print(produtos)\n",
    "produtos.pop(1) # remove o ultimo elemento da lista\n",
    "print(produtos)\n",
    "produtos.remove('smart tv')\n",
    "print(produtos)\n",
    "produtos.index('notebook')\n",
    "print(produtos)\n",
    "produtos.sort()\n",
    "print(produtos)\n",
    "produtos.reverse()\n",
    "print(produtos) "
   ]
  },
  {
   "cell_type": "markdown",
   "metadata": {},
   "source": [
    "## funções \n",
    "\n",
    "São objetos capazes de armazenar um bloco de codigo e depois podem ser reaproveitados em outro momento do codigo, somente chamando pelo seu nome.\n",
    "\n",
    "tipos:\n",
    "- função sem retorno\n",
    "- função com retorno\n",
    "- função com parametros\n",
    "- função sem parametros\n",
    "- função lambda\n",
    "- função com multiplos parametros\n",
    "   - parametros posicionais\n",
    "   - parametros nomeados\n",
    "- funções recursivas\n"
   ]
  },
  {
   "cell_type": "code",
   "execution_count": 9,
   "metadata": {},
   "outputs": [],
   "source": [
    "def saudacao():\n",
    "    print('Hello World')"
   ]
  },
  {
   "cell_type": "code",
   "execution_count": 10,
   "metadata": {},
   "outputs": [
    {
     "name": "stdout",
     "output_type": "stream",
     "text": [
      "Hello World\n"
     ]
    }
   ],
   "source": [
    "saudacao()"
   ]
  },
  {
   "cell_type": "code",
   "execution_count": 11,
   "metadata": {},
   "outputs": [],
   "source": [
    "# funcao com retorno\n",
    "\n",
    "def somar():\n",
    "    soma = 10 + 25\n",
    "    return soma"
   ]
  },
  {
   "cell_type": "code",
   "execution_count": 12,
   "metadata": {},
   "outputs": [
    {
     "name": "stdout",
     "output_type": "stream",
     "text": [
      "35\n"
     ]
    }
   ],
   "source": [
    "print(somar())"
   ]
  },
  {
   "cell_type": "code",
   "execution_count": 13,
   "metadata": {},
   "outputs": [],
   "source": [
    "# com parametros\n",
    "\n",
    "def somar2(numero1, numero2):\n",
    "    soma = numero1 + numero2\n",
    "    return soma\n"
   ]
  },
  {
   "cell_type": "code",
   "execution_count": 14,
   "metadata": {},
   "outputs": [
    {
     "data": {
      "text/plain": [
       "13"
      ]
     },
     "execution_count": 14,
     "metadata": {},
     "output_type": "execute_result"
    }
   ],
   "source": [
    "somar2(5, 8)"
   ]
  },
  {
   "cell_type": "code",
   "execution_count": 15,
   "metadata": {},
   "outputs": [],
   "source": [
    "# funcao lambda: resumir a função inteira em uma unica linha \n",
    "\n",
    "soma_lambda = lambda numero1, numero2: numero1 + numero2\n",
    "\n",
    "\n"
   ]
  },
  {
   "cell_type": "code",
   "execution_count": 16,
   "metadata": {},
   "outputs": [
    {
     "data": {
      "text/plain": [
       "178"
      ]
     },
     "execution_count": 16,
     "metadata": {},
     "output_type": "execute_result"
    }
   ],
   "source": [
    "soma_lambda(78, 100)"
   ]
  },
  {
   "cell_type": "code",
   "execution_count": 17,
   "metadata": {},
   "outputs": [],
   "source": [
    "# função com multiplos parametros (argumentos) posicionais\n",
    "\n",
    "def somar3(*numero):\n",
    "    resultado = sum(numero)\n",
    "    return resultado\n",
    "\n",
    "\n"
   ]
  },
  {
   "cell_type": "code",
   "execution_count": 18,
   "metadata": {},
   "outputs": [
    {
     "data": {
      "text/plain": [
       "101"
      ]
     },
     "execution_count": 18,
     "metadata": {},
     "output_type": "execute_result"
    }
   ],
   "source": [
    "somar3(1, 12, 25, 26, 27, 10)\n"
   ]
  },
  {
   "cell_type": "code",
   "execution_count": 19,
   "metadata": {},
   "outputs": [
    {
     "data": {
      "text/plain": [
       "40"
      ]
     },
     "execution_count": 19,
     "metadata": {},
     "output_type": "execute_result"
    }
   ],
   "source": [
    "numeros_tupla = (1, 4, 10, 25)\n",
    "\n",
    "sum(numeros_tupla)"
   ]
  },
  {
   "cell_type": "code",
   "execution_count": 20,
   "metadata": {},
   "outputs": [],
   "source": [
    "# função multiplos parametros nomeados\n",
    "\n",
    "def gerar_produto(**parametros):\n",
    "    produto = parametros\n",
    "    return produto\n"
   ]
  },
  {
   "cell_type": "code",
   "execution_count": 21,
   "metadata": {},
   "outputs": [
    {
     "data": {
      "text/plain": [
       "{'nome': 'notebook', 'preco': 3000.0, 'fabricante': 'samsung'}"
      ]
     },
     "execution_count": 21,
     "metadata": {},
     "output_type": "execute_result"
    }
   ],
   "source": [
    "gerar_produto(nome ='notebook', preco = 3000.00, fabricante = 'samsung')"
   ]
  },
  {
   "cell_type": "code",
   "execution_count": 22,
   "metadata": {},
   "outputs": [],
   "source": [
    "# função fatorial convencional\n",
    "\n",
    "\n",
    "def calcula_fatorial(numero):\n",
    "    resultado = 1\n",
    "    for i in range(1, numero + 1):\n",
    "        resultado *= i\n",
    "    return resultado"
   ]
  },
  {
   "cell_type": "code",
   "execution_count": 23,
   "metadata": {},
   "outputs": [
    {
     "data": {
      "text/plain": [
       "120"
      ]
     },
     "execution_count": 23,
     "metadata": {},
     "output_type": "execute_result"
    }
   ],
   "source": [
    "calcula_fatorial(5)"
   ]
  },
  {
   "cell_type": "code",
   "execution_count": 24,
   "metadata": {},
   "outputs": [],
   "source": [
    "# função recursiva \n",
    "\n",
    "def calcula_fatorial2(numero):\n",
    "    if numero == 0 or numero ==1:\n",
    "     return 1\n",
    "    else:\n",
    "     return numero * calcula_fatorial2(numero-1)"
   ]
  },
  {
   "cell_type": "code",
   "execution_count": 25,
   "metadata": {},
   "outputs": [
    {
     "name": "stdout",
     "output_type": "stream",
     "text": [
      "120\n"
     ]
    }
   ],
   "source": [
    "print(calcula_fatorial2(5))"
   ]
  }
 ],
 "metadata": {
  "interpreter": {
   "hash": "023695796a0456db28915f727eb64cb942055160ea749933aa044f2070f70f3a"
  },
  "kernelspec": {
   "display_name": "Python 3.12.5 64-bit (windows store)",
   "language": "python",
   "name": "python3"
  },
  "language_info": {
   "codemirror_mode": {
    "name": "ipython",
    "version": 3
   },
   "file_extension": ".py",
   "mimetype": "text/x-python",
   "name": "python",
   "nbconvert_exporter": "python",
   "pygments_lexer": "ipython3",
   "version": "3.12.5"
  },
  "orig_nbformat": 4
 },
 "nbformat": 4,
 "nbformat_minor": 2
}
