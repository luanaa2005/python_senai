{
 "cells": [
  {
   "cell_type": "code",
   "execution_count": 13,
   "metadata": {},
   "outputs": [
    {
     "name": "stdout",
     "output_type": "stream",
     "text": [
      "invalid literal for int() with base 10: 'a'\n",
      "Numeros invalidos\n",
      "5.0\n"
     ]
    }
   ],
   "source": [
    "try:\n",
    "    numero1 = int(input('Informe o primeiro numero: '))\n",
    "    numero2 = int(input('Informe o segundo numero: '))\n",
    "\n",
    "    divisao = numero1 / numero2\n",
    "    # print(divisao)\n",
    "\n",
    "except Exception as err:\n",
    "    print(err)\n",
    "else: \n",
    "    print('estou no else do bloco try')\n",
    "finally:\n",
    "    print('Numeros invalidos')\n",
    "\n",
    "print(divisao)\n"
   ]
  },
  {
   "cell_type": "code",
   "execution_count": 15,
   "metadata": {},
   "outputs": [
    {
     "name": "stdout",
     "output_type": "stream",
     "text": [
      "Erro personalizado\n"
     ]
    }
   ],
   "source": [
    "class ErroGenerico(Exception):\n",
    "    def __init__(self, mensagem):\n",
    "        super().__init__(mensagem)\n",
    "\n",
    "try:\n",
    "    numero1 = int(input('Informe o primeiro numero: '))\n",
    "    numero2 = int(input('Informe o segundo numero: '))\n",
    "\n",
    "    if numero2 < 1:\n",
    "        raise ErroGenerico('Erro personalizado')\n",
    "    else:\n",
    "        divisao = numero1 / numero2\n",
    "\n",
    "except ErroGenerico as err:\n",
    "    print(err)\n"
   ]
  }
 ],
 "metadata": {
  "interpreter": {
   "hash": "023695796a0456db28915f727eb64cb942055160ea749933aa044f2070f70f3a"
  },
  "kernelspec": {
   "display_name": "Python 3.12.5 64-bit (windows store)",
   "language": "python",
   "name": "python3"
  },
  "language_info": {
   "codemirror_mode": {
    "name": "ipython",
    "version": 3
   },
   "file_extension": ".py",
   "mimetype": "text/x-python",
   "name": "python",
   "nbconvert_exporter": "python",
   "pygments_lexer": "ipython3",
   "version": "3.12.5"
  },
  "orig_nbformat": 4
 },
 "nbformat": 4,
 "nbformat_minor": 2
}
