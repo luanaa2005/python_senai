{
 "cells": [
  {
   "cell_type": "code",
   "execution_count": 1,
   "id": "7578130e-7d3f-47fb-a04b-dda407d92344",
   "metadata": {},
   "outputs": [
    {
     "data": {
      "text/plain": [
       "False"
      ]
     },
     "metadata": {},
     "output_type": "display_data"
    }
   ],
   "source": [
    "# ANY (Qualquer, qualquer coisa)\n",
    "resposta = any([False, False, False, False, False])\n",
    "display(resposta)"
   ]
  },
  {
   "cell_type": "code",
   "execution_count": 2,
   "id": "a4015ce7-525f-4c6a-904f-082a510cbed7",
   "metadata": {},
   "outputs": [
    {
     "data": {
      "text/plain": [
       "True"
      ]
     },
     "metadata": {},
     "output_type": "display_data"
    }
   ],
   "source": [
    "# ANY (Qualquer, qualquer coisa)\n",
    "resposta = any([False, True, False, False, False])\n",
    "display(resposta)"
   ]
  },
  {
   "cell_type": "code",
   "execution_count": 6,
   "id": "808891e1-c36f-4674-a8ac-841576d5b94b",
   "metadata": {},
   "outputs": [
    {
     "data": {
      "text/plain": [
       "True"
      ]
     },
     "metadata": {},
     "output_type": "display_data"
    }
   ],
   "source": [
    "nomes = ['Luciano', '', '', '', '']\n",
    "\n",
    "resposta = any(nomes)\n",
    "display(resposta)"
   ]
  },
  {
   "cell_type": "code",
   "execution_count": 43,
   "id": "f2456a1a-13e3-4fc8-80f6-c2aee69c7862",
   "metadata": {},
   "outputs": [
    {
     "name": "stdout",
     "output_type": "stream",
     "text": [
      "True\n"
     ]
    }
   ],
   "source": [
    "tabuleiro = ['a', 'a', 'a', 3, 4, 5, 6, 7, 8]\n",
    "venceu = False\n",
    "\n",
    "combinacoes_vitoria = [\n",
    "    (0, 1, 2), (3, 4, 5), (6, 7, 8), #linhas\n",
    "    (0, 3, 6), (1, 4, 7), (2, 5, 8), #colunas\n",
    "    (0, 4, 8), (2, 4, 6)             #diagonais\n",
    "]\n",
    "\n",
    "for a, b, c in combinacoes_vitoria:\n",
    "    if tabuleiro[a] == tabuleiro[b] == tabuleiro[c]:\n",
    "        venceu = True\n",
    "\n",
    "print(venceu)"
   ]
  },
  {
   "cell_type": "code",
   "execution_count": 55,
   "id": "373459f4-e19d-41f7-84ef-30b6ba139e4c",
   "metadata": {},
   "outputs": [
    {
     "name": "stdout",
     "output_type": "stream",
     "text": [
      "False\n"
     ]
    }
   ],
   "source": [
    "tabuleiro = ['a', 'a', 'a', 3, 4, 5, 6, 7, 8]\n",
    "venceu = False\n",
    "\n",
    "combinacoes_vitoria = [\n",
    "    (0, 1, 2), (3, 4, 5), (6, 7, 8), #linhas\n",
    "    (0, 3, 6), (1, 4, 7), (2, 5, 8), #colunas\n",
    "    (0, 4, 8), (2, 4, 6)             #diagonais\n",
    "]\n",
    "\n",
    "venceu = any(tabuleiro[a] == tabuleiro[b] == tabuleiro[c] for a, b, c in combinacoes_vitoria)\n",
    "print(venceu)"
   ]
  },
  {
   "cell_type": "code",
   "execution_count": 59,
   "id": "687468c7-128e-4bd1-bfb9-1e8febe15736",
   "metadata": {},
   "outputs": [
    {
     "name": "stdout",
     "output_type": "stream",
     "text": [
      "['Luciana', 'Luca', 'Luana']\n",
      "Luana\n",
      "['Luciano', 'Lucas', 'Luan']\n",
      "['Luciana', 'Luca', 'Luana']\n",
      "['Joana', 'Jorge', 'Jó']\n",
      "Luciano Lucas Luan\n",
      "Luciana Luca Luana\n",
      "Joana Jorge Jó\n"
     ]
    }
   ],
   "source": [
    "lista_nomes = [\n",
    "    ['Luciano', 'Lucas', 'Luan'],\n",
    "    ['Luciana', 'Luca', 'Luana'],\n",
    "    ['Joana', 'Jorge', 'Jó']\n",
    "]\n",
    "\n",
    "print(lista_nomes[1])\n",
    "print(lista_nomes[1][2])\n",
    "\n",
    "for nome in lista_nomes:\n",
    "    print(nome)\n",
    "\n",
    "for nome1, nome2, nome3 in lista_nomes:\n",
    "    print(nome1, nome2, nome3)"
   ]
  },
  {
   "cell_type": "code",
   "execution_count": 60,
   "id": "9b666100-e41e-4db5-a74b-fcbe9addf9d2",
   "metadata": {},
   "outputs": [
    {
     "name": "stdout",
     "output_type": "stream",
     "text": [
      "False\n"
     ]
    }
   ],
   "source": [
    "lista = [False, False, False]\n",
    "\n",
    "resposta = all(lista)\n",
    "\n",
    "print(resposta)"
   ]
  },
  {
   "cell_type": "code",
   "execution_count": 63,
   "id": "3f0f8d8d-cccc-40dd-ac7d-a5289e7a6740",
   "metadata": {},
   "outputs": [
    {
     "name": "stdout",
     "output_type": "stream",
     "text": [
      "['laranja', 'morango', 'uva']\n",
      "['laranja', 'morango', 'uva']\n",
      "['laranja', 'kiwi', 'uva']\n",
      "['laranja', 'morango', 'uva']\n"
     ]
    }
   ],
   "source": [
    "lista_frutas = ['laranja', 'morango', 'uva']\n",
    "\n",
    "copia_lista = lista_frutas[:]\n",
    "\n",
    "print(lista_frutas)\n",
    "print(copia_lista)\n",
    "\n",
    "lista_frutas[1] = 'kiwi'\n",
    "print(lista_frutas)\n",
    "print(copia_lista)"
   ]
  },
  {
   "cell_type": "code",
   "execution_count": 77,
   "id": "b90bb7fd-5580-44d5-8788-33219460a19f",
   "metadata": {},
   "outputs": [
    {
     "name": "stdin",
     "output_type": "stream",
     "text": [
      "Informe o numero:  12\n",
      "Informe o numero:  0\n"
     ]
    },
    {
     "name": "stdout",
     "output_type": "stream",
     "text": [
      "<class 'ZeroDivisionError'>\n"
     ]
    }
   ],
   "source": [
    "try:\n",
    "    numero1 = int(input('Informe o numero: '))\n",
    "    numero2 = int(input('Informe o numero: '))\n",
    "\n",
    "    print('O resultado é: ', numero1 / numero2)\n",
    "except ZeroDivisionError:\n",
    "    print(ZeroDivisionError)\n",
    "except ValueError:\n",
    "    print(ValueError)"
   ]
  },
  {
   "cell_type": "code",
   "execution_count": null,
   "id": "a9c125cb-2495-47ba-a1a1-6148c1c00755",
   "metadata": {},
   "outputs": [],
   "source": []
  }
 ],
 "metadata": {
  "kernelspec": {
   "display_name": "Python 3 (ipykernel)",
   "language": "python",
   "name": "python3"
  },
  "language_info": {
   "codemirror_mode": {
    "name": "ipython",
    "version": 3
   },
   "file_extension": ".py",
   "mimetype": "text/x-python",
   "name": "python",
   "nbconvert_exporter": "python",
   "pygments_lexer": "ipython3",
   "version": "3.12.5"
  }
 },
 "nbformat": 4,
 "nbformat_minor": 5
}
